{
 "cells": [
  {
   "cell_type": "code",
   "execution_count": null,
   "metadata": {
    "vscode": {
     "languageId": "plaintext"
    }
   },
   "outputs": [],
   "source": [
    "# Cell 1 - imports & data load\n",
    "import pandas as pd\n",
    "import matplotlib.pyplot as plt\n",
    "import plotly.express as px\n",
    "import os\n",
    "BASE = os.path.abspath(os.path.join(\"..\"))  # adjust if necessary\n",
    "data_dir = os.path.abspath(os.path.join(os.getcwd(), \"..\", \"data\"))  # when notebook in notebooks/\n",
    "print(\"Data dir:\", data_dir)\n",
    "\n",
    "customers = pd.read_csv(os.path.join(data_dir, \"blinkit_customers.csv\"))\n",
    "orders = pd.read_csv(os.path.join(data_dir, \"blinkit_orders.csv\"))\n",
    "order_items = pd.read_csv(os.path.join(data_dir, \"blinkit_order_items.csv\"))\n",
    "feedback = pd.read_csv(os.path.join(data_dir, \"blinkit_customer_feedback.csv\"))\n",
    "products = pd.read_csv(os.path.join(data_dir, \"blinkit_products.csv\"))\n",
    "marketing = pd.read_csv(os.path.join(data_dir, \"blinkit_marketing_performance.csv\"))\n",
    "\n",
    "print(\"Loaded:\", customers.shape, orders.shape, order_items.shape, feedback.shape, products.shape, marketing.shape)"
   ]
  },
  {
   "cell_type": "code",
   "execution_count": null,
   "id": "0bab7b8e",
   "metadata": {
    "vscode": {
     "languageId": "plaintext"
    }
   },
   "outputs": [],
   "source": [
    "customers.head()\n",
    "orders.head()\n",
    "feedback.head()"
   ]
  },
  {
   "cell_type": "code",
   "execution_count": null,
   "id": "20beba79",
   "metadata": {
    "vscode": {
     "languageId": "plaintext"
    }
   },
   "outputs": [],
   "source": [
    "orders['order_date'] = pd.to_datetime(orders['order_date'], errors='coerce')\n",
    "print(\"Orders date range:\", orders['order_date'].min(), orders['order_date'].max())\n",
    "\n",
    "print(\"Customers by segment:\")\n",
    "display(customers['customer_segment'].value_counts())\n",
    "\n",
    "print(\"Feedback sentiment counts:\")\n",
    "display(feedback['sentiment'].value_counts())"
   ]
  },
  {
   "cell_type": "code",
   "execution_count": null,
   "id": "061a68cc",
   "metadata": {
    "vscode": {
     "languageId": "plaintext"
    }
   },
   "outputs": [],
   "source": [
    "cat_counts = feedback['feedback_category'].value_counts().reset_index().rename(columns={'index': 'category', 'feedback_category': 'count'})\n",
    "fig = px.bar(cat_counts, x='category', y='count', title=\"Feedback categories\")\n",
    "fig.show()\n",
    "\n",
    "rating_dist = feedback['rating'].value_counts().sort_index().reset_index().rename(columns={'index':'rating', 'rating':'count'})\n",
    "fig2 = px.bar(rating_dist, x='rating', y='count', title=\"Rating distribution\")\n",
    "fig2.show()"
   ]
  },
  {
   "cell_type": "code",
   "execution_count": null,
   "id": "a4726e65",
   "metadata": {
    "vscode": {
     "languageId": "plaintext"
    }
   },
   "outputs": [],
   "source": [
    "orders_per_customer = orders.groupby('customer_id')['order_id'].nunique().reset_index(name='orders')\n",
    "fig = px.histogram(orders_per_customer, x='orders', nbins=30, title=\"Orders per customer\")\n",
    "fig.show()"
   ]
  },
  {
   "cell_type": "code",
   "execution_count": null,
   "id": "223ebf13",
   "metadata": {
    "vscode": {
     "languageId": "plaintext"
    }
   },
   "outputs": [],
   "source": [
    "as_of = orders['order_date'].max() + pd.Timedelta(days=1)\n",
    "agg = orders.groupby('customer_id').agg(\n",
    "    last_order_date=('order_date','max'),\n",
    "    frequency=('order_id','nunique'),\n",
    "    monetary=('order_total','sum')\n",
    ").reset_index()\n",
    "agg['recency_days'] = (as_of - agg['last_order_date']).dt.days\n",
    "agg.describe()"
   ]
  }
 ],
 "metadata": {
  "language_info": {
   "name": "python"
  }
 },
 "nbformat": 4,
 "nbformat_minor": 5
}
